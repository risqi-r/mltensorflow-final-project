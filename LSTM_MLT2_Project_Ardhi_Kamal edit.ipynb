{
  "nbformat": 4,
  "nbformat_minor": 0,
  "metadata": {
    "colab": {
      "name": "LSTM MLT2 Project_Ardhi Kamal.ipynb",
      "provenance": [],
      "collapsed_sections": []
    },
    "kernelspec": {
      "name": "python3",
      "display_name": "Python 3"
    },
    "language_info": {
      "name": "python"
    }
  },
  "cells": [
    {
      "cell_type": "code",
      "execution_count": null,
      "metadata": {
        "id": "IcKn8zxfgSkQ"
      },
      "outputs": [],
      "source": [
        "import pandas as pd\n",
        "import numpy as np\n",
        "import matplotlib.pyplot as plt\n",
        "import re\n",
        "from tensorflow import keras\n",
        "from sklearn.model_selection import train_test_split\n",
        "from sklearn.preprocessing import LabelEncoder\n",
        "from sklearn.ensemble import RandomForestClassifier\n",
        "import nltk\n",
        "import string\n",
        "import tensorflow_hub as hub\n",
        "import tensorflow as tf\n",
        "import sklearn"
      ]
    },
    {
      "cell_type": "code",
      "source": [
        "from google.colab import drive\n",
        "drive.mount('/content/drive')"
      ],
      "metadata": {
        "id": "pgArQ3HkPoQy",
        "colab": {
          "base_uri": "https://localhost:8080/"
        },
        "outputId": "0b931ceb-9acc-4be4-a03c-0ee1c11a97f0"
      },
      "execution_count": null,
      "outputs": [
        {
          "output_type": "stream",
          "name": "stdout",
          "text": [
            "Drive already mounted at /content/drive; to attempt to forcibly remount, call drive.mount(\"/content/drive\", force_remount=True).\n"
          ]
        }
      ]
    },
    {
      "cell_type": "code",
      "source": [
        "df = pd.read_csv('/content/drive/MyDrive/Colab Notebooks/DTS MLT2/tweets.csv',delimiter=',',encoding='latin-1')\n",
        "df.head()\n",
        "\n",
        "data = pd.read_csv(\"/content/drive/MyDrive/Colab Notebooks/DTS MLT2/tweets.csv\")\n",
        "\n",
        "y = data[\"target\"]"
      ],
      "metadata": {
        "id": "IpPJcRX9PpkK"
      },
      "execution_count": null,
      "outputs": []
    },
    {
      "cell_type": "code",
      "source": [
        "data"
      ],
      "metadata": {
        "id": "xDby0kMZPpx5",
        "colab": {
          "base_uri": "https://localhost:8080/",
          "height": 424
        },
        "outputId": "fdcf8fd3-357e-4f39-aa71-8d2b8c1f3008"
      },
      "execution_count": null,
      "outputs": [
        {
          "output_type": "execute_result",
          "data": {
            "text/plain": [
              "          id  keyword                 location  \\\n",
              "0          0   ablaze                      NaN   \n",
              "1          1   ablaze                      NaN   \n",
              "2          2   ablaze            New York City   \n",
              "3          3   ablaze           Morgantown, WV   \n",
              "4          4   ablaze                      NaN   \n",
              "...      ...      ...                      ...   \n",
              "11365  11365  wrecked  Blue State in a red sea   \n",
              "11366  11366  wrecked               arohaonces   \n",
              "11367  11367  wrecked                       🇵🇭   \n",
              "11368  11368  wrecked           auroraborealis   \n",
              "11369  11369  wrecked                      NaN   \n",
              "\n",
              "                                                    text  target  \n",
              "0      Communal violence in Bhainsa, Telangana. \"Ston...       1  \n",
              "1      Telangana: Section 144 has been imposed in Bha...       1  \n",
              "2      Arsonist sets cars ablaze at dealership https:...       1  \n",
              "3      Arsonist sets cars ablaze at dealership https:...       1  \n",
              "4      \"Lord Jesus, your love brings freedom and pard...       0  \n",
              "...                                                  ...     ...  \n",
              "11365  Media should have warned us well in advance. T...       0  \n",
              "11366  i feel directly attacked 💀 i consider moonbin ...       0  \n",
              "11367  i feel directly attacked 💀 i consider moonbin ...       0  \n",
              "11368  ok who remember \"outcast\" nd the \"dora\" au?? T...       0  \n",
              "11369     Jake Corway wrecked while running 14th at IRP.       1  \n",
              "\n",
              "[11370 rows x 5 columns]"
            ],
            "text/html": [
              "\n",
              "  <div id=\"df-75907f18-1a95-4bd2-92c2-a2690cd101c8\">\n",
              "    <div class=\"colab-df-container\">\n",
              "      <div>\n",
              "<style scoped>\n",
              "    .dataframe tbody tr th:only-of-type {\n",
              "        vertical-align: middle;\n",
              "    }\n",
              "\n",
              "    .dataframe tbody tr th {\n",
              "        vertical-align: top;\n",
              "    }\n",
              "\n",
              "    .dataframe thead th {\n",
              "        text-align: right;\n",
              "    }\n",
              "</style>\n",
              "<table border=\"1\" class=\"dataframe\">\n",
              "  <thead>\n",
              "    <tr style=\"text-align: right;\">\n",
              "      <th></th>\n",
              "      <th>id</th>\n",
              "      <th>keyword</th>\n",
              "      <th>location</th>\n",
              "      <th>text</th>\n",
              "      <th>target</th>\n",
              "    </tr>\n",
              "  </thead>\n",
              "  <tbody>\n",
              "    <tr>\n",
              "      <th>0</th>\n",
              "      <td>0</td>\n",
              "      <td>ablaze</td>\n",
              "      <td>NaN</td>\n",
              "      <td>Communal violence in Bhainsa, Telangana. \"Ston...</td>\n",
              "      <td>1</td>\n",
              "    </tr>\n",
              "    <tr>\n",
              "      <th>1</th>\n",
              "      <td>1</td>\n",
              "      <td>ablaze</td>\n",
              "      <td>NaN</td>\n",
              "      <td>Telangana: Section 144 has been imposed in Bha...</td>\n",
              "      <td>1</td>\n",
              "    </tr>\n",
              "    <tr>\n",
              "      <th>2</th>\n",
              "      <td>2</td>\n",
              "      <td>ablaze</td>\n",
              "      <td>New York City</td>\n",
              "      <td>Arsonist sets cars ablaze at dealership https:...</td>\n",
              "      <td>1</td>\n",
              "    </tr>\n",
              "    <tr>\n",
              "      <th>3</th>\n",
              "      <td>3</td>\n",
              "      <td>ablaze</td>\n",
              "      <td>Morgantown, WV</td>\n",
              "      <td>Arsonist sets cars ablaze at dealership https:...</td>\n",
              "      <td>1</td>\n",
              "    </tr>\n",
              "    <tr>\n",
              "      <th>4</th>\n",
              "      <td>4</td>\n",
              "      <td>ablaze</td>\n",
              "      <td>NaN</td>\n",
              "      <td>\"Lord Jesus, your love brings freedom and pard...</td>\n",
              "      <td>0</td>\n",
              "    </tr>\n",
              "    <tr>\n",
              "      <th>...</th>\n",
              "      <td>...</td>\n",
              "      <td>...</td>\n",
              "      <td>...</td>\n",
              "      <td>...</td>\n",
              "      <td>...</td>\n",
              "    </tr>\n",
              "    <tr>\n",
              "      <th>11365</th>\n",
              "      <td>11365</td>\n",
              "      <td>wrecked</td>\n",
              "      <td>Blue State in a red sea</td>\n",
              "      <td>Media should have warned us well in advance. T...</td>\n",
              "      <td>0</td>\n",
              "    </tr>\n",
              "    <tr>\n",
              "      <th>11366</th>\n",
              "      <td>11366</td>\n",
              "      <td>wrecked</td>\n",
              "      <td>arohaonces</td>\n",
              "      <td>i feel directly attacked 💀 i consider moonbin ...</td>\n",
              "      <td>0</td>\n",
              "    </tr>\n",
              "    <tr>\n",
              "      <th>11367</th>\n",
              "      <td>11367</td>\n",
              "      <td>wrecked</td>\n",
              "      <td>🇵🇭</td>\n",
              "      <td>i feel directly attacked 💀 i consider moonbin ...</td>\n",
              "      <td>0</td>\n",
              "    </tr>\n",
              "    <tr>\n",
              "      <th>11368</th>\n",
              "      <td>11368</td>\n",
              "      <td>wrecked</td>\n",
              "      <td>auroraborealis</td>\n",
              "      <td>ok who remember \"outcast\" nd the \"dora\" au?? T...</td>\n",
              "      <td>0</td>\n",
              "    </tr>\n",
              "    <tr>\n",
              "      <th>11369</th>\n",
              "      <td>11369</td>\n",
              "      <td>wrecked</td>\n",
              "      <td>NaN</td>\n",
              "      <td>Jake Corway wrecked while running 14th at IRP.</td>\n",
              "      <td>1</td>\n",
              "    </tr>\n",
              "  </tbody>\n",
              "</table>\n",
              "<p>11370 rows × 5 columns</p>\n",
              "</div>\n",
              "      <button class=\"colab-df-convert\" onclick=\"convertToInteractive('df-75907f18-1a95-4bd2-92c2-a2690cd101c8')\"\n",
              "              title=\"Convert this dataframe to an interactive table.\"\n",
              "              style=\"display:none;\">\n",
              "        \n",
              "  <svg xmlns=\"http://www.w3.org/2000/svg\" height=\"24px\"viewBox=\"0 0 24 24\"\n",
              "       width=\"24px\">\n",
              "    <path d=\"M0 0h24v24H0V0z\" fill=\"none\"/>\n",
              "    <path d=\"M18.56 5.44l.94 2.06.94-2.06 2.06-.94-2.06-.94-.94-2.06-.94 2.06-2.06.94zm-11 1L8.5 8.5l.94-2.06 2.06-.94-2.06-.94L8.5 2.5l-.94 2.06-2.06.94zm10 10l.94 2.06.94-2.06 2.06-.94-2.06-.94-.94-2.06-.94 2.06-2.06.94z\"/><path d=\"M17.41 7.96l-1.37-1.37c-.4-.4-.92-.59-1.43-.59-.52 0-1.04.2-1.43.59L10.3 9.45l-7.72 7.72c-.78.78-.78 2.05 0 2.83L4 21.41c.39.39.9.59 1.41.59.51 0 1.02-.2 1.41-.59l7.78-7.78 2.81-2.81c.8-.78.8-2.07 0-2.86zM5.41 20L4 18.59l7.72-7.72 1.47 1.35L5.41 20z\"/>\n",
              "  </svg>\n",
              "      </button>\n",
              "      \n",
              "  <style>\n",
              "    .colab-df-container {\n",
              "      display:flex;\n",
              "      flex-wrap:wrap;\n",
              "      gap: 12px;\n",
              "    }\n",
              "\n",
              "    .colab-df-convert {\n",
              "      background-color: #E8F0FE;\n",
              "      border: none;\n",
              "      border-radius: 50%;\n",
              "      cursor: pointer;\n",
              "      display: none;\n",
              "      fill: #1967D2;\n",
              "      height: 32px;\n",
              "      padding: 0 0 0 0;\n",
              "      width: 32px;\n",
              "    }\n",
              "\n",
              "    .colab-df-convert:hover {\n",
              "      background-color: #E2EBFA;\n",
              "      box-shadow: 0px 1px 2px rgba(60, 64, 67, 0.3), 0px 1px 3px 1px rgba(60, 64, 67, 0.15);\n",
              "      fill: #174EA6;\n",
              "    }\n",
              "\n",
              "    [theme=dark] .colab-df-convert {\n",
              "      background-color: #3B4455;\n",
              "      fill: #D2E3FC;\n",
              "    }\n",
              "\n",
              "    [theme=dark] .colab-df-convert:hover {\n",
              "      background-color: #434B5C;\n",
              "      box-shadow: 0px 1px 3px 1px rgba(0, 0, 0, 0.15);\n",
              "      filter: drop-shadow(0px 1px 2px rgba(0, 0, 0, 0.3));\n",
              "      fill: #FFFFFF;\n",
              "    }\n",
              "  </style>\n",
              "\n",
              "      <script>\n",
              "        const buttonEl =\n",
              "          document.querySelector('#df-75907f18-1a95-4bd2-92c2-a2690cd101c8 button.colab-df-convert');\n",
              "        buttonEl.style.display =\n",
              "          google.colab.kernel.accessAllowed ? 'block' : 'none';\n",
              "\n",
              "        async function convertToInteractive(key) {\n",
              "          const element = document.querySelector('#df-75907f18-1a95-4bd2-92c2-a2690cd101c8');\n",
              "          const dataTable =\n",
              "            await google.colab.kernel.invokeFunction('convertToInteractive',\n",
              "                                                     [key], {});\n",
              "          if (!dataTable) return;\n",
              "\n",
              "          const docLinkHtml = 'Like what you see? Visit the ' +\n",
              "            '<a target=\"_blank\" href=https://colab.research.google.com/notebooks/data_table.ipynb>data table notebook</a>'\n",
              "            + ' to learn more about interactive tables.';\n",
              "          element.innerHTML = '';\n",
              "          dataTable['output_type'] = 'display_data';\n",
              "          await google.colab.output.renderOutput(dataTable, element);\n",
              "          const docLink = document.createElement('div');\n",
              "          docLink.innerHTML = docLinkHtml;\n",
              "          element.appendChild(docLink);\n",
              "        }\n",
              "      </script>\n",
              "    </div>\n",
              "  </div>\n",
              "  "
            ]
          },
          "metadata": {},
          "execution_count": 9
        }
      ]
    },
    {
      "cell_type": "code",
      "source": [
        "X = data[\"text\"]"
      ],
      "metadata": {
        "id": "Kl1ee09rPp07"
      },
      "execution_count": null,
      "outputs": []
    },
    {
      "cell_type": "code",
      "source": [
        "X_for_tree = data[[\"keyword\", \"location\"]]"
      ],
      "metadata": {
        "id": "GMgRQ5szPqdJ"
      },
      "execution_count": null,
      "outputs": []
    },
    {
      "cell_type": "code",
      "source": [
        "X[:10]"
      ],
      "metadata": {
        "id": "p8oHWZmrvucH",
        "colab": {
          "base_uri": "https://localhost:8080/"
        },
        "outputId": "cfa44a5f-f313-4441-ffdb-9ea7d67510e4"
      },
      "execution_count": null,
      "outputs": [
        {
          "output_type": "execute_result",
          "data": {
            "text/plain": [
              "0    Communal violence in Bhainsa, Telangana. \"Ston...\n",
              "1    Telangana: Section 144 has been imposed in Bha...\n",
              "2    Arsonist sets cars ablaze at dealership https:...\n",
              "3    Arsonist sets cars ablaze at dealership https:...\n",
              "4    \"Lord Jesus, your love brings freedom and pard...\n",
              "5    If this child was Chinese, this tweet would ha...\n",
              "6    Several houses have been set ablaze in Ngemsib...\n",
              "7    Asansol: A BJP office in Salanpur village was ...\n",
              "8    National Security Minister, Kan Dapaah's side ...\n",
              "9    This creature who’s soul is no longer clarent ...\n",
              "Name: text, dtype: object"
            ]
          },
          "metadata": {},
          "execution_count": 12
        }
      ]
    },
    {
      "cell_type": "code",
      "source": [
        "def clean_text(text):\n",
        "    '''Make text lowercase, remove text in square brackets,remove links,remove punctuation\n",
        "    and remove words containing numbers.'''\n",
        "    text = text.lower()\n",
        "    text = re.sub('\\[.*?\\]', '', text) \n",
        "    text = re.sub('https?://\\S+|www\\.\\S+', '', text)\n",
        "    text = re.sub('<.*?>+', '', text)\n",
        "    text = re.sub('[%s]' % re.escape(string.punctuation), '', text)\n",
        "    text = re.sub('\\n', '', text)\n",
        "    text = re.sub('\\w*\\d\\w*', '', text)\n",
        "    return text\n",
        "X = pd.Series(map(clean_text, X))"
      ],
      "metadata": {
        "id": "DoEiG0e7vueW"
      },
      "execution_count": null,
      "outputs": []
    },
    {
      "cell_type": "code",
      "source": [
        "X[:10]"
      ],
      "metadata": {
        "id": "JDhStQ6Vvugj",
        "colab": {
          "base_uri": "https://localhost:8080/"
        },
        "outputId": "82b54ccf-af2a-4e1a-da6f-e179a106dd2d"
      },
      "execution_count": null,
      "outputs": [
        {
          "output_type": "execute_result",
          "data": {
            "text/plain": [
              "0    communal violence in bhainsa telangana stones ...\n",
              "1    telangana section  has been imposed in bhainsa...\n",
              "2             arsonist sets cars ablaze at dealership \n",
              "3            arsonist sets cars ablaze at dealership  \n",
              "4    lord jesus your love brings freedom and pardon...\n",
              "5    if this child was chinese this tweet would hav...\n",
              "6    several houses have been set ablaze in ngemsib...\n",
              "7    asansol a bjp office in salanpur village was s...\n",
              "8    national security minister kan dapaahs side ch...\n",
              "9    this creature who’s soul is no longer clarent ...\n",
              "dtype: object"
            ]
          },
          "metadata": {},
          "execution_count": 14
        }
      ]
    },
    {
      "cell_type": "code",
      "source": [
        "nltk.download('punkt')\n",
        "X = [nltk.word_tokenize(sentence) for sentence in X]"
      ],
      "metadata": {
        "colab": {
          "base_uri": "https://localhost:8080/"
        },
        "id": "KUT-iiH32nee",
        "outputId": "315c3252-99c7-415f-fa88-5b3c149818a7"
      },
      "execution_count": null,
      "outputs": [
        {
          "output_type": "stream",
          "name": "stderr",
          "text": [
            "[nltk_data] Downloading package punkt to /root/nltk_data...\n",
            "[nltk_data]   Unzipping tokenizers/punkt.zip.\n"
          ]
        }
      ]
    },
    {
      "cell_type": "code",
      "source": [
        "pd.DataFrame(X[:5])"
      ],
      "metadata": {
        "colab": {
          "base_uri": "https://localhost:8080/",
          "height": 299
        },
        "id": "0xpUinGn2nhp",
        "outputId": "4ee693c3-5e96-4907-b1d5-dc49b2f0ea55"
      },
      "execution_count": null,
      "outputs": [
        {
          "output_type": "execute_result",
          "data": {
            "text/plain": [
              "          0         1     2        3          4           5        6       7   \\\n",
              "0   communal  violence    in  bhainsa  telangana      stones     were  pelted   \n",
              "1  telangana   section   has     been    imposed          in  bhainsa    from   \n",
              "2   arsonist      sets  cars   ablaze         at  dealership     None    None   \n",
              "3   arsonist      sets  cars   ablaze         at  dealership     None    None   \n",
              "4       lord     jesus  your     love     brings     freedom      and  pardon   \n",
              "\n",
              "        8        9   ...       12       13    14        15    16       17  \\\n",
              "0       on  muslims  ...     some   houses   and  vehicles  were      set   \n",
              "1  january       to  ...  erupted  between   two    groups    on  january   \n",
              "2     None     None  ...     None     None  None      None  None     None   \n",
              "3     None     None  ...     None     None  None      None  None     None   \n",
              "4     fill       me  ...     holy   spirit   and       set    my    heart   \n",
              "\n",
              "        18    19    20    21  \n",
              "0  ablaze…  None  None  None  \n",
              "1      po…  None  None  None  \n",
              "2     None  None  None  None  \n",
              "3     None  None  None  None  \n",
              "4   ablaze  with  your    l…  \n",
              "\n",
              "[5 rows x 22 columns]"
            ],
            "text/html": [
              "\n",
              "  <div id=\"df-2fca10c4-cd98-4d50-a2cc-949d53cde034\">\n",
              "    <div class=\"colab-df-container\">\n",
              "      <div>\n",
              "<style scoped>\n",
              "    .dataframe tbody tr th:only-of-type {\n",
              "        vertical-align: middle;\n",
              "    }\n",
              "\n",
              "    .dataframe tbody tr th {\n",
              "        vertical-align: top;\n",
              "    }\n",
              "\n",
              "    .dataframe thead th {\n",
              "        text-align: right;\n",
              "    }\n",
              "</style>\n",
              "<table border=\"1\" class=\"dataframe\">\n",
              "  <thead>\n",
              "    <tr style=\"text-align: right;\">\n",
              "      <th></th>\n",
              "      <th>0</th>\n",
              "      <th>1</th>\n",
              "      <th>2</th>\n",
              "      <th>3</th>\n",
              "      <th>4</th>\n",
              "      <th>5</th>\n",
              "      <th>6</th>\n",
              "      <th>7</th>\n",
              "      <th>8</th>\n",
              "      <th>9</th>\n",
              "      <th>...</th>\n",
              "      <th>12</th>\n",
              "      <th>13</th>\n",
              "      <th>14</th>\n",
              "      <th>15</th>\n",
              "      <th>16</th>\n",
              "      <th>17</th>\n",
              "      <th>18</th>\n",
              "      <th>19</th>\n",
              "      <th>20</th>\n",
              "      <th>21</th>\n",
              "    </tr>\n",
              "  </thead>\n",
              "  <tbody>\n",
              "    <tr>\n",
              "      <th>0</th>\n",
              "      <td>communal</td>\n",
              "      <td>violence</td>\n",
              "      <td>in</td>\n",
              "      <td>bhainsa</td>\n",
              "      <td>telangana</td>\n",
              "      <td>stones</td>\n",
              "      <td>were</td>\n",
              "      <td>pelted</td>\n",
              "      <td>on</td>\n",
              "      <td>muslims</td>\n",
              "      <td>...</td>\n",
              "      <td>some</td>\n",
              "      <td>houses</td>\n",
              "      <td>and</td>\n",
              "      <td>vehicles</td>\n",
              "      <td>were</td>\n",
              "      <td>set</td>\n",
              "      <td>ablaze…</td>\n",
              "      <td>None</td>\n",
              "      <td>None</td>\n",
              "      <td>None</td>\n",
              "    </tr>\n",
              "    <tr>\n",
              "      <th>1</th>\n",
              "      <td>telangana</td>\n",
              "      <td>section</td>\n",
              "      <td>has</td>\n",
              "      <td>been</td>\n",
              "      <td>imposed</td>\n",
              "      <td>in</td>\n",
              "      <td>bhainsa</td>\n",
              "      <td>from</td>\n",
              "      <td>january</td>\n",
              "      <td>to</td>\n",
              "      <td>...</td>\n",
              "      <td>erupted</td>\n",
              "      <td>between</td>\n",
              "      <td>two</td>\n",
              "      <td>groups</td>\n",
              "      <td>on</td>\n",
              "      <td>january</td>\n",
              "      <td>po…</td>\n",
              "      <td>None</td>\n",
              "      <td>None</td>\n",
              "      <td>None</td>\n",
              "    </tr>\n",
              "    <tr>\n",
              "      <th>2</th>\n",
              "      <td>arsonist</td>\n",
              "      <td>sets</td>\n",
              "      <td>cars</td>\n",
              "      <td>ablaze</td>\n",
              "      <td>at</td>\n",
              "      <td>dealership</td>\n",
              "      <td>None</td>\n",
              "      <td>None</td>\n",
              "      <td>None</td>\n",
              "      <td>None</td>\n",
              "      <td>...</td>\n",
              "      <td>None</td>\n",
              "      <td>None</td>\n",
              "      <td>None</td>\n",
              "      <td>None</td>\n",
              "      <td>None</td>\n",
              "      <td>None</td>\n",
              "      <td>None</td>\n",
              "      <td>None</td>\n",
              "      <td>None</td>\n",
              "      <td>None</td>\n",
              "    </tr>\n",
              "    <tr>\n",
              "      <th>3</th>\n",
              "      <td>arsonist</td>\n",
              "      <td>sets</td>\n",
              "      <td>cars</td>\n",
              "      <td>ablaze</td>\n",
              "      <td>at</td>\n",
              "      <td>dealership</td>\n",
              "      <td>None</td>\n",
              "      <td>None</td>\n",
              "      <td>None</td>\n",
              "      <td>None</td>\n",
              "      <td>...</td>\n",
              "      <td>None</td>\n",
              "      <td>None</td>\n",
              "      <td>None</td>\n",
              "      <td>None</td>\n",
              "      <td>None</td>\n",
              "      <td>None</td>\n",
              "      <td>None</td>\n",
              "      <td>None</td>\n",
              "      <td>None</td>\n",
              "      <td>None</td>\n",
              "    </tr>\n",
              "    <tr>\n",
              "      <th>4</th>\n",
              "      <td>lord</td>\n",
              "      <td>jesus</td>\n",
              "      <td>your</td>\n",
              "      <td>love</td>\n",
              "      <td>brings</td>\n",
              "      <td>freedom</td>\n",
              "      <td>and</td>\n",
              "      <td>pardon</td>\n",
              "      <td>fill</td>\n",
              "      <td>me</td>\n",
              "      <td>...</td>\n",
              "      <td>holy</td>\n",
              "      <td>spirit</td>\n",
              "      <td>and</td>\n",
              "      <td>set</td>\n",
              "      <td>my</td>\n",
              "      <td>heart</td>\n",
              "      <td>ablaze</td>\n",
              "      <td>with</td>\n",
              "      <td>your</td>\n",
              "      <td>l…</td>\n",
              "    </tr>\n",
              "  </tbody>\n",
              "</table>\n",
              "<p>5 rows × 22 columns</p>\n",
              "</div>\n",
              "      <button class=\"colab-df-convert\" onclick=\"convertToInteractive('df-2fca10c4-cd98-4d50-a2cc-949d53cde034')\"\n",
              "              title=\"Convert this dataframe to an interactive table.\"\n",
              "              style=\"display:none;\">\n",
              "        \n",
              "  <svg xmlns=\"http://www.w3.org/2000/svg\" height=\"24px\"viewBox=\"0 0 24 24\"\n",
              "       width=\"24px\">\n",
              "    <path d=\"M0 0h24v24H0V0z\" fill=\"none\"/>\n",
              "    <path d=\"M18.56 5.44l.94 2.06.94-2.06 2.06-.94-2.06-.94-.94-2.06-.94 2.06-2.06.94zm-11 1L8.5 8.5l.94-2.06 2.06-.94-2.06-.94L8.5 2.5l-.94 2.06-2.06.94zm10 10l.94 2.06.94-2.06 2.06-.94-2.06-.94-.94-2.06-.94 2.06-2.06.94z\"/><path d=\"M17.41 7.96l-1.37-1.37c-.4-.4-.92-.59-1.43-.59-.52 0-1.04.2-1.43.59L10.3 9.45l-7.72 7.72c-.78.78-.78 2.05 0 2.83L4 21.41c.39.39.9.59 1.41.59.51 0 1.02-.2 1.41-.59l7.78-7.78 2.81-2.81c.8-.78.8-2.07 0-2.86zM5.41 20L4 18.59l7.72-7.72 1.47 1.35L5.41 20z\"/>\n",
              "  </svg>\n",
              "      </button>\n",
              "      \n",
              "  <style>\n",
              "    .colab-df-container {\n",
              "      display:flex;\n",
              "      flex-wrap:wrap;\n",
              "      gap: 12px;\n",
              "    }\n",
              "\n",
              "    .colab-df-convert {\n",
              "      background-color: #E8F0FE;\n",
              "      border: none;\n",
              "      border-radius: 50%;\n",
              "      cursor: pointer;\n",
              "      display: none;\n",
              "      fill: #1967D2;\n",
              "      height: 32px;\n",
              "      padding: 0 0 0 0;\n",
              "      width: 32px;\n",
              "    }\n",
              "\n",
              "    .colab-df-convert:hover {\n",
              "      background-color: #E2EBFA;\n",
              "      box-shadow: 0px 1px 2px rgba(60, 64, 67, 0.3), 0px 1px 3px 1px rgba(60, 64, 67, 0.15);\n",
              "      fill: #174EA6;\n",
              "    }\n",
              "\n",
              "    [theme=dark] .colab-df-convert {\n",
              "      background-color: #3B4455;\n",
              "      fill: #D2E3FC;\n",
              "    }\n",
              "\n",
              "    [theme=dark] .colab-df-convert:hover {\n",
              "      background-color: #434B5C;\n",
              "      box-shadow: 0px 1px 3px 1px rgba(0, 0, 0, 0.15);\n",
              "      filter: drop-shadow(0px 1px 2px rgba(0, 0, 0, 0.3));\n",
              "      fill: #FFFFFF;\n",
              "    }\n",
              "  </style>\n",
              "\n",
              "      <script>\n",
              "        const buttonEl =\n",
              "          document.querySelector('#df-2fca10c4-cd98-4d50-a2cc-949d53cde034 button.colab-df-convert');\n",
              "        buttonEl.style.display =\n",
              "          google.colab.kernel.accessAllowed ? 'block' : 'none';\n",
              "\n",
              "        async function convertToInteractive(key) {\n",
              "          const element = document.querySelector('#df-2fca10c4-cd98-4d50-a2cc-949d53cde034');\n",
              "          const dataTable =\n",
              "            await google.colab.kernel.invokeFunction('convertToInteractive',\n",
              "                                                     [key], {});\n",
              "          if (!dataTable) return;\n",
              "\n",
              "          const docLinkHtml = 'Like what you see? Visit the ' +\n",
              "            '<a target=\"_blank\" href=https://colab.research.google.com/notebooks/data_table.ipynb>data table notebook</a>'\n",
              "            + ' to learn more about interactive tables.';\n",
              "          element.innerHTML = '';\n",
              "          dataTable['output_type'] = 'display_data';\n",
              "          await google.colab.output.renderOutput(dataTable, element);\n",
              "          const docLink = document.createElement('div');\n",
              "          docLink.innerHTML = docLinkHtml;\n",
              "          element.appendChild(docLink);\n",
              "        }\n",
              "      </script>\n",
              "    </div>\n",
              "  </div>\n",
              "  "
            ]
          },
          "metadata": {},
          "execution_count": 17
        }
      ]
    },
    {
      "cell_type": "code",
      "source": [
        "nltk.download('stopwords')\n",
        "nltk.corpus.stopwords.words('english')[:5]"
      ],
      "metadata": {
        "colab": {
          "base_uri": "https://localhost:8080/"
        },
        "id": "pnbYnJwQ2nkN",
        "outputId": "366e9b87-6e34-464d-d7d2-ec6a1b4e3793"
      },
      "execution_count": null,
      "outputs": [
        {
          "output_type": "stream",
          "name": "stderr",
          "text": [
            "[nltk_data] Downloading package stopwords to /root/nltk_data...\n",
            "[nltk_data]   Unzipping corpora/stopwords.zip.\n"
          ]
        },
        {
          "output_type": "execute_result",
          "data": {
            "text/plain": [
              "['i', 'me', 'my', 'myself', 'we']"
            ]
          },
          "metadata": {},
          "execution_count": 20
        }
      ]
    },
    {
      "cell_type": "code",
      "source": [
        "pd.DataFrame(X[:5])"
      ],
      "metadata": {
        "colab": {
          "base_uri": "https://localhost:8080/",
          "height": 299
        },
        "id": "PzvyWDVq2n0C",
        "outputId": "1cba762b-fd26-40df-b965-df9730b4450e"
      },
      "execution_count": null,
      "outputs": [
        {
          "output_type": "execute_result",
          "data": {
            "text/plain": [
              "          0         1     2        3          4           5        6       7   \\\n",
              "0   communal  violence    in  bhainsa  telangana      stones     were  pelted   \n",
              "1  telangana   section   has     been    imposed          in  bhainsa    from   \n",
              "2   arsonist      sets  cars   ablaze         at  dealership     None    None   \n",
              "3   arsonist      sets  cars   ablaze         at  dealership     None    None   \n",
              "4       lord     jesus  your     love     brings     freedom      and  pardon   \n",
              "\n",
              "        8        9   ...       12       13    14        15    16       17  \\\n",
              "0       on  muslims  ...     some   houses   and  vehicles  were      set   \n",
              "1  january       to  ...  erupted  between   two    groups    on  january   \n",
              "2     None     None  ...     None     None  None      None  None     None   \n",
              "3     None     None  ...     None     None  None      None  None     None   \n",
              "4     fill       me  ...     holy   spirit   and       set    my    heart   \n",
              "\n",
              "        18    19    20    21  \n",
              "0  ablaze…  None  None  None  \n",
              "1      po…  None  None  None  \n",
              "2     None  None  None  None  \n",
              "3     None  None  None  None  \n",
              "4   ablaze  with  your    l…  \n",
              "\n",
              "[5 rows x 22 columns]"
            ],
            "text/html": [
              "\n",
              "  <div id=\"df-431d14f7-a961-4d49-a9e8-e7dac9f7ecdf\">\n",
              "    <div class=\"colab-df-container\">\n",
              "      <div>\n",
              "<style scoped>\n",
              "    .dataframe tbody tr th:only-of-type {\n",
              "        vertical-align: middle;\n",
              "    }\n",
              "\n",
              "    .dataframe tbody tr th {\n",
              "        vertical-align: top;\n",
              "    }\n",
              "\n",
              "    .dataframe thead th {\n",
              "        text-align: right;\n",
              "    }\n",
              "</style>\n",
              "<table border=\"1\" class=\"dataframe\">\n",
              "  <thead>\n",
              "    <tr style=\"text-align: right;\">\n",
              "      <th></th>\n",
              "      <th>0</th>\n",
              "      <th>1</th>\n",
              "      <th>2</th>\n",
              "      <th>3</th>\n",
              "      <th>4</th>\n",
              "      <th>5</th>\n",
              "      <th>6</th>\n",
              "      <th>7</th>\n",
              "      <th>8</th>\n",
              "      <th>9</th>\n",
              "      <th>...</th>\n",
              "      <th>12</th>\n",
              "      <th>13</th>\n",
              "      <th>14</th>\n",
              "      <th>15</th>\n",
              "      <th>16</th>\n",
              "      <th>17</th>\n",
              "      <th>18</th>\n",
              "      <th>19</th>\n",
              "      <th>20</th>\n",
              "      <th>21</th>\n",
              "    </tr>\n",
              "  </thead>\n",
              "  <tbody>\n",
              "    <tr>\n",
              "      <th>0</th>\n",
              "      <td>communal</td>\n",
              "      <td>violence</td>\n",
              "      <td>in</td>\n",
              "      <td>bhainsa</td>\n",
              "      <td>telangana</td>\n",
              "      <td>stones</td>\n",
              "      <td>were</td>\n",
              "      <td>pelted</td>\n",
              "      <td>on</td>\n",
              "      <td>muslims</td>\n",
              "      <td>...</td>\n",
              "      <td>some</td>\n",
              "      <td>houses</td>\n",
              "      <td>and</td>\n",
              "      <td>vehicles</td>\n",
              "      <td>were</td>\n",
              "      <td>set</td>\n",
              "      <td>ablaze…</td>\n",
              "      <td>None</td>\n",
              "      <td>None</td>\n",
              "      <td>None</td>\n",
              "    </tr>\n",
              "    <tr>\n",
              "      <th>1</th>\n",
              "      <td>telangana</td>\n",
              "      <td>section</td>\n",
              "      <td>has</td>\n",
              "      <td>been</td>\n",
              "      <td>imposed</td>\n",
              "      <td>in</td>\n",
              "      <td>bhainsa</td>\n",
              "      <td>from</td>\n",
              "      <td>january</td>\n",
              "      <td>to</td>\n",
              "      <td>...</td>\n",
              "      <td>erupted</td>\n",
              "      <td>between</td>\n",
              "      <td>two</td>\n",
              "      <td>groups</td>\n",
              "      <td>on</td>\n",
              "      <td>january</td>\n",
              "      <td>po…</td>\n",
              "      <td>None</td>\n",
              "      <td>None</td>\n",
              "      <td>None</td>\n",
              "    </tr>\n",
              "    <tr>\n",
              "      <th>2</th>\n",
              "      <td>arsonist</td>\n",
              "      <td>sets</td>\n",
              "      <td>cars</td>\n",
              "      <td>ablaze</td>\n",
              "      <td>at</td>\n",
              "      <td>dealership</td>\n",
              "      <td>None</td>\n",
              "      <td>None</td>\n",
              "      <td>None</td>\n",
              "      <td>None</td>\n",
              "      <td>...</td>\n",
              "      <td>None</td>\n",
              "      <td>None</td>\n",
              "      <td>None</td>\n",
              "      <td>None</td>\n",
              "      <td>None</td>\n",
              "      <td>None</td>\n",
              "      <td>None</td>\n",
              "      <td>None</td>\n",
              "      <td>None</td>\n",
              "      <td>None</td>\n",
              "    </tr>\n",
              "    <tr>\n",
              "      <th>3</th>\n",
              "      <td>arsonist</td>\n",
              "      <td>sets</td>\n",
              "      <td>cars</td>\n",
              "      <td>ablaze</td>\n",
              "      <td>at</td>\n",
              "      <td>dealership</td>\n",
              "      <td>None</td>\n",
              "      <td>None</td>\n",
              "      <td>None</td>\n",
              "      <td>None</td>\n",
              "      <td>...</td>\n",
              "      <td>None</td>\n",
              "      <td>None</td>\n",
              "      <td>None</td>\n",
              "      <td>None</td>\n",
              "      <td>None</td>\n",
              "      <td>None</td>\n",
              "      <td>None</td>\n",
              "      <td>None</td>\n",
              "      <td>None</td>\n",
              "      <td>None</td>\n",
              "    </tr>\n",
              "    <tr>\n",
              "      <th>4</th>\n",
              "      <td>lord</td>\n",
              "      <td>jesus</td>\n",
              "      <td>your</td>\n",
              "      <td>love</td>\n",
              "      <td>brings</td>\n",
              "      <td>freedom</td>\n",
              "      <td>and</td>\n",
              "      <td>pardon</td>\n",
              "      <td>fill</td>\n",
              "      <td>me</td>\n",
              "      <td>...</td>\n",
              "      <td>holy</td>\n",
              "      <td>spirit</td>\n",
              "      <td>and</td>\n",
              "      <td>set</td>\n",
              "      <td>my</td>\n",
              "      <td>heart</td>\n",
              "      <td>ablaze</td>\n",
              "      <td>with</td>\n",
              "      <td>your</td>\n",
              "      <td>l…</td>\n",
              "    </tr>\n",
              "  </tbody>\n",
              "</table>\n",
              "<p>5 rows × 22 columns</p>\n",
              "</div>\n",
              "      <button class=\"colab-df-convert\" onclick=\"convertToInteractive('df-431d14f7-a961-4d49-a9e8-e7dac9f7ecdf')\"\n",
              "              title=\"Convert this dataframe to an interactive table.\"\n",
              "              style=\"display:none;\">\n",
              "        \n",
              "  <svg xmlns=\"http://www.w3.org/2000/svg\" height=\"24px\"viewBox=\"0 0 24 24\"\n",
              "       width=\"24px\">\n",
              "    <path d=\"M0 0h24v24H0V0z\" fill=\"none\"/>\n",
              "    <path d=\"M18.56 5.44l.94 2.06.94-2.06 2.06-.94-2.06-.94-.94-2.06-.94 2.06-2.06.94zm-11 1L8.5 8.5l.94-2.06 2.06-.94-2.06-.94L8.5 2.5l-.94 2.06-2.06.94zm10 10l.94 2.06.94-2.06 2.06-.94-2.06-.94-.94-2.06-.94 2.06-2.06.94z\"/><path d=\"M17.41 7.96l-1.37-1.37c-.4-.4-.92-.59-1.43-.59-.52 0-1.04.2-1.43.59L10.3 9.45l-7.72 7.72c-.78.78-.78 2.05 0 2.83L4 21.41c.39.39.9.59 1.41.59.51 0 1.02-.2 1.41-.59l7.78-7.78 2.81-2.81c.8-.78.8-2.07 0-2.86zM5.41 20L4 18.59l7.72-7.72 1.47 1.35L5.41 20z\"/>\n",
              "  </svg>\n",
              "      </button>\n",
              "      \n",
              "  <style>\n",
              "    .colab-df-container {\n",
              "      display:flex;\n",
              "      flex-wrap:wrap;\n",
              "      gap: 12px;\n",
              "    }\n",
              "\n",
              "    .colab-df-convert {\n",
              "      background-color: #E8F0FE;\n",
              "      border: none;\n",
              "      border-radius: 50%;\n",
              "      cursor: pointer;\n",
              "      display: none;\n",
              "      fill: #1967D2;\n",
              "      height: 32px;\n",
              "      padding: 0 0 0 0;\n",
              "      width: 32px;\n",
              "    }\n",
              "\n",
              "    .colab-df-convert:hover {\n",
              "      background-color: #E2EBFA;\n",
              "      box-shadow: 0px 1px 2px rgba(60, 64, 67, 0.3), 0px 1px 3px 1px rgba(60, 64, 67, 0.15);\n",
              "      fill: #174EA6;\n",
              "    }\n",
              "\n",
              "    [theme=dark] .colab-df-convert {\n",
              "      background-color: #3B4455;\n",
              "      fill: #D2E3FC;\n",
              "    }\n",
              "\n",
              "    [theme=dark] .colab-df-convert:hover {\n",
              "      background-color: #434B5C;\n",
              "      box-shadow: 0px 1px 3px 1px rgba(0, 0, 0, 0.15);\n",
              "      filter: drop-shadow(0px 1px 2px rgba(0, 0, 0, 0.3));\n",
              "      fill: #FFFFFF;\n",
              "    }\n",
              "  </style>\n",
              "\n",
              "      <script>\n",
              "        const buttonEl =\n",
              "          document.querySelector('#df-431d14f7-a961-4d49-a9e8-e7dac9f7ecdf button.colab-df-convert');\n",
              "        buttonEl.style.display =\n",
              "          google.colab.kernel.accessAllowed ? 'block' : 'none';\n",
              "\n",
              "        async function convertToInteractive(key) {\n",
              "          const element = document.querySelector('#df-431d14f7-a961-4d49-a9e8-e7dac9f7ecdf');\n",
              "          const dataTable =\n",
              "            await google.colab.kernel.invokeFunction('convertToInteractive',\n",
              "                                                     [key], {});\n",
              "          if (!dataTable) return;\n",
              "\n",
              "          const docLinkHtml = 'Like what you see? Visit the ' +\n",
              "            '<a target=\"_blank\" href=https://colab.research.google.com/notebooks/data_table.ipynb>data table notebook</a>'\n",
              "            + ' to learn more about interactive tables.';\n",
              "          element.innerHTML = '';\n",
              "          dataTable['output_type'] = 'display_data';\n",
              "          await google.colab.output.renderOutput(dataTable, element);\n",
              "          const docLink = document.createElement('div');\n",
              "          docLink.innerHTML = docLinkHtml;\n",
              "          element.appendChild(docLink);\n",
              "        }\n",
              "      </script>\n",
              "    </div>\n",
              "  </div>\n",
              "  "
            ]
          },
          "metadata": {},
          "execution_count": 22
        }
      ]
    },
    {
      "cell_type": "code",
      "source": [
        "def remove_stopwords(text):\n",
        "    words = [w for w in text if w not in nltk.corpus.stopwords.words('english')]\n",
        "    return words\n",
        "\n",
        "X = list(map(remove_stopwords, X))"
      ],
      "metadata": {
        "id": "cxgQQET-2n1u"
      },
      "execution_count": null,
      "outputs": []
    },
    {
      "cell_type": "code",
      "source": [
        "pd.DataFrame(X[:5])"
      ],
      "metadata": {
        "colab": {
          "base_uri": "https://localhost:8080/",
          "height": 206
        },
        "id": "XyRtlqpP2n3f",
        "outputId": "b74a0f2e-e045-4a5e-964a-f961a496cabe"
      },
      "execution_count": null,
      "outputs": [
        {
          "output_type": "execute_result",
          "data": {
            "text/plain": [
              "          0         1        2          3           4       5        6   \\\n",
              "0   communal  violence  bhainsa  telangana      stones  pelted  muslims   \n",
              "1  telangana   section  imposed    bhainsa     january   clash  erupted   \n",
              "2   arsonist      sets     cars     ablaze  dealership    None     None   \n",
              "3   arsonist      sets     cars     ablaze  dealership    None     None   \n",
              "4       lord     jesus     love     brings     freedom  pardon     fill   \n",
              "\n",
              "       7       8         9      10       11    12  \n",
              "0  houses  houses  vehicles    set  ablaze…  None  \n",
              "1     two  groups   january    po…     None  None  \n",
              "2    None    None      None   None     None  None  \n",
              "3    None    None      None   None     None  None  \n",
              "4    holy  spirit       set  heart   ablaze    l…  "
            ],
            "text/html": [
              "\n",
              "  <div id=\"df-849a77d3-920e-47b7-9d98-8c5cdc3f43d2\">\n",
              "    <div class=\"colab-df-container\">\n",
              "      <div>\n",
              "<style scoped>\n",
              "    .dataframe tbody tr th:only-of-type {\n",
              "        vertical-align: middle;\n",
              "    }\n",
              "\n",
              "    .dataframe tbody tr th {\n",
              "        vertical-align: top;\n",
              "    }\n",
              "\n",
              "    .dataframe thead th {\n",
              "        text-align: right;\n",
              "    }\n",
              "</style>\n",
              "<table border=\"1\" class=\"dataframe\">\n",
              "  <thead>\n",
              "    <tr style=\"text-align: right;\">\n",
              "      <th></th>\n",
              "      <th>0</th>\n",
              "      <th>1</th>\n",
              "      <th>2</th>\n",
              "      <th>3</th>\n",
              "      <th>4</th>\n",
              "      <th>5</th>\n",
              "      <th>6</th>\n",
              "      <th>7</th>\n",
              "      <th>8</th>\n",
              "      <th>9</th>\n",
              "      <th>10</th>\n",
              "      <th>11</th>\n",
              "      <th>12</th>\n",
              "    </tr>\n",
              "  </thead>\n",
              "  <tbody>\n",
              "    <tr>\n",
              "      <th>0</th>\n",
              "      <td>communal</td>\n",
              "      <td>violence</td>\n",
              "      <td>bhainsa</td>\n",
              "      <td>telangana</td>\n",
              "      <td>stones</td>\n",
              "      <td>pelted</td>\n",
              "      <td>muslims</td>\n",
              "      <td>houses</td>\n",
              "      <td>houses</td>\n",
              "      <td>vehicles</td>\n",
              "      <td>set</td>\n",
              "      <td>ablaze…</td>\n",
              "      <td>None</td>\n",
              "    </tr>\n",
              "    <tr>\n",
              "      <th>1</th>\n",
              "      <td>telangana</td>\n",
              "      <td>section</td>\n",
              "      <td>imposed</td>\n",
              "      <td>bhainsa</td>\n",
              "      <td>january</td>\n",
              "      <td>clash</td>\n",
              "      <td>erupted</td>\n",
              "      <td>two</td>\n",
              "      <td>groups</td>\n",
              "      <td>january</td>\n",
              "      <td>po…</td>\n",
              "      <td>None</td>\n",
              "      <td>None</td>\n",
              "    </tr>\n",
              "    <tr>\n",
              "      <th>2</th>\n",
              "      <td>arsonist</td>\n",
              "      <td>sets</td>\n",
              "      <td>cars</td>\n",
              "      <td>ablaze</td>\n",
              "      <td>dealership</td>\n",
              "      <td>None</td>\n",
              "      <td>None</td>\n",
              "      <td>None</td>\n",
              "      <td>None</td>\n",
              "      <td>None</td>\n",
              "      <td>None</td>\n",
              "      <td>None</td>\n",
              "      <td>None</td>\n",
              "    </tr>\n",
              "    <tr>\n",
              "      <th>3</th>\n",
              "      <td>arsonist</td>\n",
              "      <td>sets</td>\n",
              "      <td>cars</td>\n",
              "      <td>ablaze</td>\n",
              "      <td>dealership</td>\n",
              "      <td>None</td>\n",
              "      <td>None</td>\n",
              "      <td>None</td>\n",
              "      <td>None</td>\n",
              "      <td>None</td>\n",
              "      <td>None</td>\n",
              "      <td>None</td>\n",
              "      <td>None</td>\n",
              "    </tr>\n",
              "    <tr>\n",
              "      <th>4</th>\n",
              "      <td>lord</td>\n",
              "      <td>jesus</td>\n",
              "      <td>love</td>\n",
              "      <td>brings</td>\n",
              "      <td>freedom</td>\n",
              "      <td>pardon</td>\n",
              "      <td>fill</td>\n",
              "      <td>holy</td>\n",
              "      <td>spirit</td>\n",
              "      <td>set</td>\n",
              "      <td>heart</td>\n",
              "      <td>ablaze</td>\n",
              "      <td>l…</td>\n",
              "    </tr>\n",
              "  </tbody>\n",
              "</table>\n",
              "</div>\n",
              "      <button class=\"colab-df-convert\" onclick=\"convertToInteractive('df-849a77d3-920e-47b7-9d98-8c5cdc3f43d2')\"\n",
              "              title=\"Convert this dataframe to an interactive table.\"\n",
              "              style=\"display:none;\">\n",
              "        \n",
              "  <svg xmlns=\"http://www.w3.org/2000/svg\" height=\"24px\"viewBox=\"0 0 24 24\"\n",
              "       width=\"24px\">\n",
              "    <path d=\"M0 0h24v24H0V0z\" fill=\"none\"/>\n",
              "    <path d=\"M18.56 5.44l.94 2.06.94-2.06 2.06-.94-2.06-.94-.94-2.06-.94 2.06-2.06.94zm-11 1L8.5 8.5l.94-2.06 2.06-.94-2.06-.94L8.5 2.5l-.94 2.06-2.06.94zm10 10l.94 2.06.94-2.06 2.06-.94-2.06-.94-.94-2.06-.94 2.06-2.06.94z\"/><path d=\"M17.41 7.96l-1.37-1.37c-.4-.4-.92-.59-1.43-.59-.52 0-1.04.2-1.43.59L10.3 9.45l-7.72 7.72c-.78.78-.78 2.05 0 2.83L4 21.41c.39.39.9.59 1.41.59.51 0 1.02-.2 1.41-.59l7.78-7.78 2.81-2.81c.8-.78.8-2.07 0-2.86zM5.41 20L4 18.59l7.72-7.72 1.47 1.35L5.41 20z\"/>\n",
              "  </svg>\n",
              "      </button>\n",
              "      \n",
              "  <style>\n",
              "    .colab-df-container {\n",
              "      display:flex;\n",
              "      flex-wrap:wrap;\n",
              "      gap: 12px;\n",
              "    }\n",
              "\n",
              "    .colab-df-convert {\n",
              "      background-color: #E8F0FE;\n",
              "      border: none;\n",
              "      border-radius: 50%;\n",
              "      cursor: pointer;\n",
              "      display: none;\n",
              "      fill: #1967D2;\n",
              "      height: 32px;\n",
              "      padding: 0 0 0 0;\n",
              "      width: 32px;\n",
              "    }\n",
              "\n",
              "    .colab-df-convert:hover {\n",
              "      background-color: #E2EBFA;\n",
              "      box-shadow: 0px 1px 2px rgba(60, 64, 67, 0.3), 0px 1px 3px 1px rgba(60, 64, 67, 0.15);\n",
              "      fill: #174EA6;\n",
              "    }\n",
              "\n",
              "    [theme=dark] .colab-df-convert {\n",
              "      background-color: #3B4455;\n",
              "      fill: #D2E3FC;\n",
              "    }\n",
              "\n",
              "    [theme=dark] .colab-df-convert:hover {\n",
              "      background-color: #434B5C;\n",
              "      box-shadow: 0px 1px 3px 1px rgba(0, 0, 0, 0.15);\n",
              "      filter: drop-shadow(0px 1px 2px rgba(0, 0, 0, 0.3));\n",
              "      fill: #FFFFFF;\n",
              "    }\n",
              "  </style>\n",
              "\n",
              "      <script>\n",
              "        const buttonEl =\n",
              "          document.querySelector('#df-849a77d3-920e-47b7-9d98-8c5cdc3f43d2 button.colab-df-convert');\n",
              "        buttonEl.style.display =\n",
              "          google.colab.kernel.accessAllowed ? 'block' : 'none';\n",
              "\n",
              "        async function convertToInteractive(key) {\n",
              "          const element = document.querySelector('#df-849a77d3-920e-47b7-9d98-8c5cdc3f43d2');\n",
              "          const dataTable =\n",
              "            await google.colab.kernel.invokeFunction('convertToInteractive',\n",
              "                                                     [key], {});\n",
              "          if (!dataTable) return;\n",
              "\n",
              "          const docLinkHtml = 'Like what you see? Visit the ' +\n",
              "            '<a target=\"_blank\" href=https://colab.research.google.com/notebooks/data_table.ipynb>data table notebook</a>'\n",
              "            + ' to learn more about interactive tables.';\n",
              "          element.innerHTML = '';\n",
              "          dataTable['output_type'] = 'display_data';\n",
              "          await google.colab.output.renderOutput(dataTable, element);\n",
              "          const docLink = document.createElement('div');\n",
              "          docLink.innerHTML = docLinkHtml;\n",
              "          element.appendChild(docLink);\n",
              "        }\n",
              "      </script>\n",
              "    </div>\n",
              "  </div>\n",
              "  "
            ]
          },
          "metadata": {},
          "execution_count": 24
        }
      ]
    },
    {
      "cell_type": "code",
      "source": [
        "tokenizer = keras.preprocessing.text.Tokenizer()\n",
        "tokenizer.fit_on_texts(X)\n",
        "X = tokenizer.texts_to_sequences(X)"
      ],
      "metadata": {
        "id": "1UtIIQrG2n5w"
      },
      "execution_count": null,
      "outputs": []
    },
    {
      "cell_type": "code",
      "source": [
        "pd.DataFrame(X[:5])"
      ],
      "metadata": {
        "colab": {
          "base_uri": "https://localhost:8080/",
          "height": 206
        },
        "id": "4PV2RWVA2n8E",
        "outputId": "2e459d97-f05f-413d-cc01-153db854090f"
      },
      "execution_count": null,
      "outputs": [
        {
          "output_type": "execute_result",
          "data": {
            "text/plain": [
              "     0     1     2     3     4        5       6       7       8       9   \\\n",
              "0  3988   686  1479  1568  2615   3989.0  1045.0   636.0   636.0  1223.0   \n",
              "1  1568  2112  6491  1479   173   2323.0  2113.0    30.0  1670.0   173.0   \n",
              "2  1569  2324  1224   909  6492      NaN     NaN     NaN     NaN     NaN   \n",
              "3  1569  2324  1224   909  6492      NaN     NaN     NaN     NaN     NaN   \n",
              "4  1153   743    56  1792  1291  10149.0  4878.0  1480.0  3990.0   151.0   \n",
              "\n",
              "       10      11     12  \n",
              "0   151.0  6490.0    NaN  \n",
              "1  2114.0     NaN    NaN  \n",
              "2     NaN     NaN    NaN  \n",
              "3     NaN     NaN    NaN  \n",
              "4   105.0   909.0  687.0  "
            ],
            "text/html": [
              "\n",
              "  <div id=\"df-3322d1ad-4ff9-481b-b839-3ae1b838f152\">\n",
              "    <div class=\"colab-df-container\">\n",
              "      <div>\n",
              "<style scoped>\n",
              "    .dataframe tbody tr th:only-of-type {\n",
              "        vertical-align: middle;\n",
              "    }\n",
              "\n",
              "    .dataframe tbody tr th {\n",
              "        vertical-align: top;\n",
              "    }\n",
              "\n",
              "    .dataframe thead th {\n",
              "        text-align: right;\n",
              "    }\n",
              "</style>\n",
              "<table border=\"1\" class=\"dataframe\">\n",
              "  <thead>\n",
              "    <tr style=\"text-align: right;\">\n",
              "      <th></th>\n",
              "      <th>0</th>\n",
              "      <th>1</th>\n",
              "      <th>2</th>\n",
              "      <th>3</th>\n",
              "      <th>4</th>\n",
              "      <th>5</th>\n",
              "      <th>6</th>\n",
              "      <th>7</th>\n",
              "      <th>8</th>\n",
              "      <th>9</th>\n",
              "      <th>10</th>\n",
              "      <th>11</th>\n",
              "      <th>12</th>\n",
              "    </tr>\n",
              "  </thead>\n",
              "  <tbody>\n",
              "    <tr>\n",
              "      <th>0</th>\n",
              "      <td>3988</td>\n",
              "      <td>686</td>\n",
              "      <td>1479</td>\n",
              "      <td>1568</td>\n",
              "      <td>2615</td>\n",
              "      <td>3989.0</td>\n",
              "      <td>1045.0</td>\n",
              "      <td>636.0</td>\n",
              "      <td>636.0</td>\n",
              "      <td>1223.0</td>\n",
              "      <td>151.0</td>\n",
              "      <td>6490.0</td>\n",
              "      <td>NaN</td>\n",
              "    </tr>\n",
              "    <tr>\n",
              "      <th>1</th>\n",
              "      <td>1568</td>\n",
              "      <td>2112</td>\n",
              "      <td>6491</td>\n",
              "      <td>1479</td>\n",
              "      <td>173</td>\n",
              "      <td>2323.0</td>\n",
              "      <td>2113.0</td>\n",
              "      <td>30.0</td>\n",
              "      <td>1670.0</td>\n",
              "      <td>173.0</td>\n",
              "      <td>2114.0</td>\n",
              "      <td>NaN</td>\n",
              "      <td>NaN</td>\n",
              "    </tr>\n",
              "    <tr>\n",
              "      <th>2</th>\n",
              "      <td>1569</td>\n",
              "      <td>2324</td>\n",
              "      <td>1224</td>\n",
              "      <td>909</td>\n",
              "      <td>6492</td>\n",
              "      <td>NaN</td>\n",
              "      <td>NaN</td>\n",
              "      <td>NaN</td>\n",
              "      <td>NaN</td>\n",
              "      <td>NaN</td>\n",
              "      <td>NaN</td>\n",
              "      <td>NaN</td>\n",
              "      <td>NaN</td>\n",
              "    </tr>\n",
              "    <tr>\n",
              "      <th>3</th>\n",
              "      <td>1569</td>\n",
              "      <td>2324</td>\n",
              "      <td>1224</td>\n",
              "      <td>909</td>\n",
              "      <td>6492</td>\n",
              "      <td>NaN</td>\n",
              "      <td>NaN</td>\n",
              "      <td>NaN</td>\n",
              "      <td>NaN</td>\n",
              "      <td>NaN</td>\n",
              "      <td>NaN</td>\n",
              "      <td>NaN</td>\n",
              "      <td>NaN</td>\n",
              "    </tr>\n",
              "    <tr>\n",
              "      <th>4</th>\n",
              "      <td>1153</td>\n",
              "      <td>743</td>\n",
              "      <td>56</td>\n",
              "      <td>1792</td>\n",
              "      <td>1291</td>\n",
              "      <td>10149.0</td>\n",
              "      <td>4878.0</td>\n",
              "      <td>1480.0</td>\n",
              "      <td>3990.0</td>\n",
              "      <td>151.0</td>\n",
              "      <td>105.0</td>\n",
              "      <td>909.0</td>\n",
              "      <td>687.0</td>\n",
              "    </tr>\n",
              "  </tbody>\n",
              "</table>\n",
              "</div>\n",
              "      <button class=\"colab-df-convert\" onclick=\"convertToInteractive('df-3322d1ad-4ff9-481b-b839-3ae1b838f152')\"\n",
              "              title=\"Convert this dataframe to an interactive table.\"\n",
              "              style=\"display:none;\">\n",
              "        \n",
              "  <svg xmlns=\"http://www.w3.org/2000/svg\" height=\"24px\"viewBox=\"0 0 24 24\"\n",
              "       width=\"24px\">\n",
              "    <path d=\"M0 0h24v24H0V0z\" fill=\"none\"/>\n",
              "    <path d=\"M18.56 5.44l.94 2.06.94-2.06 2.06-.94-2.06-.94-.94-2.06-.94 2.06-2.06.94zm-11 1L8.5 8.5l.94-2.06 2.06-.94-2.06-.94L8.5 2.5l-.94 2.06-2.06.94zm10 10l.94 2.06.94-2.06 2.06-.94-2.06-.94-.94-2.06-.94 2.06-2.06.94z\"/><path d=\"M17.41 7.96l-1.37-1.37c-.4-.4-.92-.59-1.43-.59-.52 0-1.04.2-1.43.59L10.3 9.45l-7.72 7.72c-.78.78-.78 2.05 0 2.83L4 21.41c.39.39.9.59 1.41.59.51 0 1.02-.2 1.41-.59l7.78-7.78 2.81-2.81c.8-.78.8-2.07 0-2.86zM5.41 20L4 18.59l7.72-7.72 1.47 1.35L5.41 20z\"/>\n",
              "  </svg>\n",
              "      </button>\n",
              "      \n",
              "  <style>\n",
              "    .colab-df-container {\n",
              "      display:flex;\n",
              "      flex-wrap:wrap;\n",
              "      gap: 12px;\n",
              "    }\n",
              "\n",
              "    .colab-df-convert {\n",
              "      background-color: #E8F0FE;\n",
              "      border: none;\n",
              "      border-radius: 50%;\n",
              "      cursor: pointer;\n",
              "      display: none;\n",
              "      fill: #1967D2;\n",
              "      height: 32px;\n",
              "      padding: 0 0 0 0;\n",
              "      width: 32px;\n",
              "    }\n",
              "\n",
              "    .colab-df-convert:hover {\n",
              "      background-color: #E2EBFA;\n",
              "      box-shadow: 0px 1px 2px rgba(60, 64, 67, 0.3), 0px 1px 3px 1px rgba(60, 64, 67, 0.15);\n",
              "      fill: #174EA6;\n",
              "    }\n",
              "\n",
              "    [theme=dark] .colab-df-convert {\n",
              "      background-color: #3B4455;\n",
              "      fill: #D2E3FC;\n",
              "    }\n",
              "\n",
              "    [theme=dark] .colab-df-convert:hover {\n",
              "      background-color: #434B5C;\n",
              "      box-shadow: 0px 1px 3px 1px rgba(0, 0, 0, 0.15);\n",
              "      filter: drop-shadow(0px 1px 2px rgba(0, 0, 0, 0.3));\n",
              "      fill: #FFFFFF;\n",
              "    }\n",
              "  </style>\n",
              "\n",
              "      <script>\n",
              "        const buttonEl =\n",
              "          document.querySelector('#df-3322d1ad-4ff9-481b-b839-3ae1b838f152 button.colab-df-convert');\n",
              "        buttonEl.style.display =\n",
              "          google.colab.kernel.accessAllowed ? 'block' : 'none';\n",
              "\n",
              "        async function convertToInteractive(key) {\n",
              "          const element = document.querySelector('#df-3322d1ad-4ff9-481b-b839-3ae1b838f152');\n",
              "          const dataTable =\n",
              "            await google.colab.kernel.invokeFunction('convertToInteractive',\n",
              "                                                     [key], {});\n",
              "          if (!dataTable) return;\n",
              "\n",
              "          const docLinkHtml = 'Like what you see? Visit the ' +\n",
              "            '<a target=\"_blank\" href=https://colab.research.google.com/notebooks/data_table.ipynb>data table notebook</a>'\n",
              "            + ' to learn more about interactive tables.';\n",
              "          element.innerHTML = '';\n",
              "          dataTable['output_type'] = 'display_data';\n",
              "          await google.colab.output.renderOutput(dataTable, element);\n",
              "          const docLink = document.createElement('div');\n",
              "          docLink.innerHTML = docLinkHtml;\n",
              "          element.appendChild(docLink);\n",
              "        }\n",
              "      </script>\n",
              "    </div>\n",
              "  </div>\n",
              "  "
            ]
          },
          "metadata": {},
          "execution_count": 26
        }
      ]
    },
    {
      "cell_type": "code",
      "source": [
        "print(\"Average length of tweet:\", sum(map(len, X))/len(X))\n",
        "plt.hist([len(tweet) for tweet in X])"
      ],
      "metadata": {
        "colab": {
          "base_uri": "https://localhost:8080/",
          "height": 352
        },
        "id": "2zXrtdfu2oBv",
        "outputId": "a69e6054-bfff-4045-e5e1-30b044521f71"
      },
      "execution_count": null,
      "outputs": [
        {
          "output_type": "stream",
          "name": "stdout",
          "text": [
            "Average length of tweet: 10.001671064204047\n"
          ]
        },
        {
          "output_type": "execute_result",
          "data": {
            "text/plain": [
              "(array([ 277.,  617.,  968., 2594., 2806., 2549., 1376.,  147.,   25.,\n",
              "          11.]),\n",
              " array([ 0. ,  2.3,  4.6,  6.9,  9.2, 11.5, 13.8, 16.1, 18.4, 20.7, 23. ]),\n",
              " <a list of 10 Patch objects>)"
            ]
          },
          "metadata": {},
          "execution_count": 27
        },
        {
          "output_type": "display_data",
          "data": {
            "text/plain": [
              "<Figure size 432x288 with 1 Axes>"
            ],
            "image/png": "[encoded data removed]"
          },
          "metadata": {
            "needs_background": "light"
          }
        }
      ]
    },
    {
      "cell_type": "code",
      "source": [
        "fig,(ax1,ax2) = plt.subplots(1,2,figsize=(10,5))\n",
        "ax1.hist([len(X[i]) for i in range(len(X)) if y[i]==1])\n",
        "ax1.set_title(\"Real\")\n",
        "ax2.hist([len(X[i]) for i in range(len(X)) if y[i]==0], color=\"orange\")\n",
        "ax2.set_title(\"Fake\")"
      ],
      "metadata": {
        "colab": {
          "base_uri": "https://localhost:8080/",
          "height": 353
        },
        "id": "-vcT8dAL2oEg",
        "outputId": "a77c3bc5-801f-455e-a8c6-d20b93a170bf"
      },
      "execution_count": null,
      "outputs": [
        {
          "output_type": "execute_result",
          "data": {
            "text/plain": [
              "Text(0.5, 1.0, 'Fake')"
            ]
          },
          "metadata": {},
          "execution_count": 28
        },
        {
          "output_type": "display_data",
          "data": {
            "text/plain": [
              "<Figure size 720x360 with 2 Axes>"
            ],
            "image/png": "[encoded data removed]"
          },
          "metadata": {
            "needs_background": "light"
          }
        }
      ]
    },
    {
      "cell_type": "code",
      "source": [
        "count=0\n",
        "for tweet in X:\n",
        "    if len(tweet) > 20:\n",
        "        count+=1\n",
        "print((len(X)-count) / len(X))"
      ],
      "metadata": {
        "colab": {
          "base_uri": "https://localhost:8080/"
        },
        "id": "a49oVv6s2oGG",
        "outputId": "361b9d50-b181-4127-cc0b-69356a99cdc4"
      },
      "execution_count": null,
      "outputs": [
        {
          "output_type": "stream",
          "name": "stdout",
          "text": [
            "0.999032541776605\n"
          ]
        }
      ]
    },
    {
      "cell_type": "code",
      "source": [
        "X = keras.preprocessing.sequence.pad_sequences(X, maxlen=20, padding=\"post\")"
      ],
      "metadata": {
        "id": "J-OTIt_12oIJ"
      },
      "execution_count": null,
      "outputs": []
    },
    {
      "cell_type": "code",
      "source": [
        "def preprocess(text_sequence):\n",
        "    text_sequence = pd.Series(map(clean_text, text_sequence))    \n",
        "    text_sequence = [nltk.word_tokenize(sentence) for sentence in text_sequence]\n",
        "    text_sequence = list(map(remove_stopwords, text_sequence))    \n",
        "    text_sequence =  tokenizer.texts_to_sequences(text_sequence)\n",
        "    text_sequence = keras.preprocessing.sequence.pad_sequences(text_sequence, maxlen=20, padding=\"post\") \n",
        "    return text_sequence"
      ],
      "metadata": {
        "id": "FmrTuDaE-LZp"
      },
      "execution_count": null,
      "outputs": []
    },
    {
      "cell_type": "code",
      "source": [
        "X_train, X_valid, y_train, y_valid = train_test_split(X, y, stratify=y, random_state=42)\n",
        "X_train_tree, X_valid_tree, y_train, y_valid = train_test_split(X_for_tree, y, stratify=y, random_state=42)"
      ],
      "metadata": {
        "id": "za3EyGep-LcW"
      },
      "execution_count": null,
      "outputs": []
    },
    {
      "cell_type": "code",
      "source": [
        "k_encoder = LabelEncoder()\n",
        "X_train_tree[\"keyword\"] = k_encoder.fit_transform(X_train_tree[\"keyword\"])\n",
        "X_valid_tree[\"keyword\"] = k_encoder.transform(X_valid_tree[\"keyword\"])\n",
        "\n",
        "l_encoder = LabelEncoder()\n",
        "X_train_tree[\"location\"] = l_encoder.fit_transform(X_train_tree[\"location\"])"
      ],
      "metadata": {
        "id": "D862Trp2-Lf6"
      },
      "execution_count": null,
      "outputs": []
    },
    {
      "cell_type": "code",
      "source": [
        "temp = np.array(X_valid_tree[\"location\"])\n",
        "\n",
        "for index in range(len(temp)):\n",
        "    if temp[index] not in l_encoder.classes_:\n",
        "        temp[index] = np.nan\n",
        "        \n",
        "X_valid_tree[\"location\"] = temp\n",
        "X_valid_tree[\"location\"] = l_encoder.transform(X_valid_tree[\"location\"])"
      ],
      "metadata": {
        "id": "5jZuf1S2-Lh8"
      },
      "execution_count": null,
      "outputs": []
    },
    {
      "cell_type": "code",
      "source": [
        "def make_model(iter = 1, hidden=100):\n",
        "    Input = keras.Input(shape=[20])\n",
        "\n",
        "    x = keras.layers.Reshape((20, 1))(Input)\n",
        "    \n",
        "    for _ in range(iter):\n",
        "        x = keras.layers.Bidirectional(keras.layers.LSTM(hidden, return_sequences=True))(x)\n",
        "        \n",
        "    x = keras.layers.Bidirectional(keras.layers.LSTM(hidden))(x)\n",
        "    x = keras.layers.Dense((hidden+40)/2, activation=\"relu\")(x)\n",
        "    output = keras.layers.Dense(1, activation=\"sigmoid\")(x)\n",
        "\n",
        "    model = keras.Model(inputs=Input, outputs=output)\n",
        "    model.compile(loss=\"binary_crossentropy\", metrics=\"accuracy\", optimizer=\"adam\")\n",
        "    return model"
      ],
      "metadata": {
        "id": "7CoWQ5pq-Lke"
      },
      "execution_count": null,
      "outputs": []
    },
    {
      "cell_type": "code",
      "source": [
        "model = make_model(1, 100)\n",
        "history = model.fit(X_train, y_train, validation_data=(X_valid, y_valid), epochs=30)"
      ],
      "metadata": {
        "colab": {
          "base_uri": "https://localhost:8080/"
        },
        "id": "bMj8bZCg-LmL",
        "outputId": "958aa58c-a1e4-418c-bec5-85de80dc7efc"
      },
      "execution_count": null,
      "outputs": [
        {
          "output_type": "stream",
          "name": "stdout",
          "text": [
            "Epoch 1/30\n",
            "267/267 [==============================] - 34s 97ms/step - loss: 0.4730 - accuracy: 0.8111 - val_loss: 0.4628 - val_accuracy: 0.8139\n",
            "Epoch 2/30\n",
            "267/267 [==============================] - 22s 82ms/step - loss: 0.4629 - accuracy: 0.8141 - val_loss: 0.4751 - val_accuracy: 0.8139\n",
            "Epoch 3/30\n",
            "267/267 [==============================] - 21s 80ms/step - loss: 0.4613 - accuracy: 0.8141 - val_loss: 0.4610 - val_accuracy: 0.8139\n",
            "Epoch 4/30\n",
            "267/267 [==============================] - 21s 79ms/step - loss: 0.4610 - accuracy: 0.8141 - val_loss: 0.4637 - val_accuracy: 0.8139\n",
            "Epoch 5/30\n",
            "267/267 [==============================] - 23s 88ms/step - loss: 0.4660 - accuracy: 0.8141 - val_loss: 0.4704 - val_accuracy: 0.8139\n",
            "Epoch 6/30\n",
            "267/267 [==============================] - 21s 80ms/step - loss: 0.4648 - accuracy: 0.8141 - val_loss: 0.4675 - val_accuracy: 0.8139\n",
            "Epoch 7/30\n",
            "267/267 [==============================] - 21s 79ms/step - loss: 0.4636 - accuracy: 0.8141 - val_loss: 0.4620 - val_accuracy: 0.8139\n",
            "Epoch 8/30\n",
            "267/267 [==============================] - 21s 79ms/step - loss: 0.4615 - accuracy: 0.8141 - val_loss: 0.4652 - val_accuracy: 0.8139\n",
            "Epoch 9/30\n",
            "267/267 [==============================] - 24s 88ms/step - loss: 0.4595 - accuracy: 0.8141 - val_loss: 0.4669 - val_accuracy: 0.8139\n",
            "Epoch 10/30\n",
            "267/267 [==============================] - 21s 80ms/step - loss: 0.4594 - accuracy: 0.8141 - val_loss: 0.4584 - val_accuracy: 0.8139\n",
            "Epoch 11/30\n",
            "267/267 [==============================] - 21s 79ms/step - loss: 0.4558 - accuracy: 0.8141 - val_loss: 0.4789 - val_accuracy: 0.8139\n",
            "Epoch 12/30\n",
            "267/267 [==============================] - 23s 87ms/step - loss: 0.4556 - accuracy: 0.8141 - val_loss: 0.4578 - val_accuracy: 0.8139\n",
            "Epoch 13/30\n",
            "267/267 [==============================] - 21s 79ms/step - loss: 0.4542 - accuracy: 0.8141 - val_loss: 0.4604 - val_accuracy: 0.8139\n",
            "Epoch 14/30\n",
            "267/267 [==============================] - 21s 79ms/step - loss: 0.4531 - accuracy: 0.8141 - val_loss: 0.4628 - val_accuracy: 0.8139\n",
            "Epoch 15/30\n",
            "267/267 [==============================] - 21s 79ms/step - loss: 0.4539 - accuracy: 0.8141 - val_loss: 0.4607 - val_accuracy: 0.8139\n",
            "Epoch 16/30\n",
            "267/267 [==============================] - 23s 87ms/step - loss: 0.4548 - accuracy: 0.8141 - val_loss: 0.4616 - val_accuracy: 0.8139\n",
            "Epoch 17/30\n",
            "267/267 [==============================] - 21s 80ms/step - loss: 0.4531 - accuracy: 0.8141 - val_loss: 0.4592 - val_accuracy: 0.8139\n",
            "Epoch 18/30\n",
            "267/267 [==============================] - 21s 79ms/step - loss: 0.4525 - accuracy: 0.8141 - val_loss: 0.4662 - val_accuracy: 0.8139\n",
            "Epoch 19/30\n",
            "267/267 [==============================] - 21s 80ms/step - loss: 0.4571 - accuracy: 0.8141 - val_loss: 0.4705 - val_accuracy: 0.8139\n",
            "Epoch 20/30\n",
            "267/267 [==============================] - 24s 88ms/step - loss: 0.4590 - accuracy: 0.8141 - val_loss: 0.4671 - val_accuracy: 0.8139\n",
            "Epoch 21/30\n",
            "267/267 [==============================] - 22s 81ms/step - loss: 0.4556 - accuracy: 0.8141 - val_loss: 0.4647 - val_accuracy: 0.8139\n",
            "Epoch 22/30\n",
            "267/267 [==============================] - 21s 80ms/step - loss: 0.4530 - accuracy: 0.8141 - val_loss: 0.4599 - val_accuracy: 0.8139\n",
            "Epoch 23/30\n",
            "267/267 [==============================] - 22s 81ms/step - loss: 0.4516 - accuracy: 0.8141 - val_loss: 0.4709 - val_accuracy: 0.8139\n",
            "Epoch 24/30\n",
            "267/267 [==============================] - 24s 89ms/step - loss: 0.4488 - accuracy: 0.8141 - val_loss: 0.4576 - val_accuracy: 0.8139\n",
            "Epoch 25/30\n",
            "267/267 [==============================] - 22s 81ms/step - loss: 0.4449 - accuracy: 0.8141 - val_loss: 0.4610 - val_accuracy: 0.8139\n",
            "Epoch 26/30\n",
            "267/267 [==============================] - 22s 81ms/step - loss: 0.4456 - accuracy: 0.8142 - val_loss: 0.4595 - val_accuracy: 0.8143\n",
            "Epoch 27/30\n",
            "267/267 [==============================] - 23s 86ms/step - loss: 0.4458 - accuracy: 0.8152 - val_loss: 0.4592 - val_accuracy: 0.8139\n",
            "Epoch 28/30\n",
            "267/267 [==============================] - 22s 84ms/step - loss: 0.4412 - accuracy: 0.8159 - val_loss: 0.4609 - val_accuracy: 0.8139\n",
            "Epoch 29/30\n",
            "267/267 [==============================] - 22s 81ms/step - loss: 0.4410 - accuracy: 0.8149 - val_loss: 0.4600 - val_accuracy: 0.8139\n",
            "Epoch 30/30\n",
            "267/267 [==============================] - 21s 80ms/step - loss: 0.4376 - accuracy: 0.8163 - val_loss: 0.4587 - val_accuracy: 0.8150\n"
          ]
        }
      ]
    },
    {
      "cell_type": "code",
      "source": [
        "plt.figure(figsize=(14, 10))\n",
        "plt.plot(history.history[\"accuracy\"], label=\"Train\")\n",
        "plt.plot(history.history[\"val_accuracy\"], label=\"Valid\")\n",
        "plt.legend()"
      ],
      "metadata": {
        "colab": {
          "base_uri": "https://localhost:8080/",
          "height": 609
        },
        "id": "IiagQDNh-LoJ",
        "outputId": "3b99ae36-dc15-4b5a-9171-57af8e1ed660"
      },
      "execution_count": null,
      "outputs": [
        {
          "output_type": "execute_result",
          "data": {
            "text/plain": [
              "<matplotlib.legend.Legend at 0x7f28f4d72710>"
            ]
          },
          "metadata": {},
          "execution_count": 37
        },
        {
          "output_type": "display_data",
          "data": {
            "text/plain": [
              "<Figure size 1008x720 with 1 Axes>"
            ],
            "image/png": "[encoded data removed]"
          },
          "metadata": {
            "needs_background": "light"
          }
        }
      ]
    },
    {
      "cell_type": "code",
      "source": [
        "model.evaluate(X_valid, y_valid)"
      ],
      "metadata": {
        "colab": {
          "base_uri": "https://localhost:8080/"
        },
        "id": "OyL5Nzoe-Lus",
        "outputId": "d2f3d952-2b33-45d7-b2e2-becfc557ff1c"
      },
      "execution_count": null,
      "outputs": [
        {
          "output_type": "stream",
          "name": "stdout",
          "text": [
            "89/89 [==============================] - 2s 19ms/step - loss: 0.4587 - accuracy: 0.8150\n"
          ]
        },
        {
          "output_type": "execute_result",
          "data": {
            "text/plain": [
              "[0.45865556597709656, 0.814984142780304]"
            ]
          },
          "metadata": {},
          "execution_count": 38
        }
      ]
    },
    {
      "cell_type": "code",
      "source": [
        ""
      ],
      "metadata": {
        "id": "hdPhqNBS-LxG"
      },
      "execution_count": null,
      "outputs": []
    },
    {
      "cell_type": "code",
      "source": [
        ""
      ],
      "metadata": {
        "id": "qiTgdS6g-L0L"
      },
      "execution_count": null,
      "outputs": []
    },
    {
      "cell_type": "code",
      "source": [
        ""
      ],
      "metadata": {
        "id": "wIYXANo4-L2b"
      },
      "execution_count": null,
      "outputs": []
    },
    {
      "cell_type": "code",
      "source": [
        ""
      ],
      "metadata": {
        "id": "Z2GOFoSD-L4i"
      },
      "execution_count": null,
      "outputs": []
    }
  ]
}